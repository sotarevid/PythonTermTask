{
 "metadata": {
  "language_info": {
   "codemirror_mode": {
    "name": "ipython",
    "version": 3
   },
   "file_extension": ".py",
   "mimetype": "text/x-python",
   "name": "python",
   "nbconvert_exporter": "python",
   "pygments_lexer": "ipython3",
   "version": 3
  },
  "orig_nbformat": 2,
  "kernelspec": {
   "name": "python_defaultSpec_1597132881683",
   "display_name": "Python 3.7.5 64-bit"
  }
 },
 "nbformat": 4,
 "nbformat_minor": 2,
 "cells": [
  {
   "cell_type": "code",
   "execution_count": 1,
   "metadata": {},
   "outputs": [],
   "source": [
    "from openpyxl import Workbook\n",
    "from openpyxl import load_workbook"
   ]
  },
  {
   "cell_type": "code",
   "execution_count": 2,
   "metadata": {},
   "outputs": [],
   "source": [
    "year = 2020\n",
    "mounth_num = 8"
   ]
  },
  {
   "cell_type": "code",
   "execution_count": 3,
   "metadata": {},
   "outputs": [],
   "source": [
    "# from lxml import html\n",
    "# import requests\n",
    "# page = requests.get(\"http://www.consultant.ru/law/ref/calendar/proizvodstvennye/{}/\".format(year))\n",
    "\n",
    "# tree = html.fromstring(page.content)\n",
    "# month_tags = tree.xpath(\"//th[@class='month']/../../..\")\n",
    "\n",
    "# holidays_by_month = []\n",
    "# holidays_count = 0\n",
    "# for t in month_tags:\n",
    "#     holidays = t.xpath(\n",
    "#         \".//td[@class='holiday weekend' or @class='weekend' or @class='nowork']/text()\"\n",
    "#     )\n",
    "#     holidays_list = [int(day) for day in holidays]\n",
    "#     holidays_count += len(holidays_list)\n",
    "#     holidays_by_month.append(holidays_list)"
   ]
  },
  {
   "cell_type": "code",
   "execution_count": 4,
   "metadata": {},
   "outputs": [],
   "source": [
    "# holidays_by_month"
   ]
  },
  {
   "cell_type": "code",
   "execution_count": 5,
   "metadata": {},
   "outputs": [],
   "source": [
    "mounths = ['Январь', 'Февраль', 'Март', 'Апрель', 'Май', 'Июнь', 'Июль', 'Август', 'Сентябрь', 'Октябрь', 'Ноябрь', 'Декабрь']"
   ]
  },
  {
   "cell_type": "code",
   "execution_count": 6,
   "metadata": {},
   "outputs": [],
   "source": [
    "# wb = Workbook()\n",
    "# dest_filename = 'data_.xlsx'\n",
    "# ws1 = wb.active\n",
    "# ws1.title = \"выходные\"\n",
    "# _ = ws1.cell(column=1, row=1, value=\"номер месяца\")\n",
    "# _ = ws1.cell(column=2, row=1, value=\"месяц\")\n",
    "# _ = ws1.cell(column=3, row=1, value=\"номер выходного дня\")\n",
    "# row = 1\n",
    "# for m_num, holidays in enumerate(holidays_by_month):\n",
    "#     for h in holidays:\n",
    "#         row += 1\n",
    "#         _ = ws1.cell(column=1, row=row, value=\"{}\".format(m_num+1))\n",
    "#         _ = ws1.cell(column=2, row=row, value=\"{}\".format(mounths[m_num]))\n",
    "#         _ = ws1.cell(column=3, row=row, value=\"{}\".format(h))\n",
    "\n",
    "# wb.save(filename = dest_filename)"
   ]
  },
  {
   "cell_type": "code",
   "execution_count": 7,
   "metadata": {},
   "outputs": [
    {
     "output_type": "execute_result",
     "data": {
      "text/plain": "31"
     },
     "metadata": {},
     "execution_count": 7
    }
   ],
   "source": [
    "import calendar\n",
    "import datetime\n",
    "days_in_mounth = calendar.monthrange(year, mounth_num)[1]\n",
    "days_in_mounth"
   ]
  },
  {
   "cell_type": "code",
   "execution_count": 8,
   "metadata": {
    "tags": []
   },
   "outputs": [
    {
     "output_type": "stream",
     "name": "stdout",
     "text": "<class 'datetime.datetime'>\n[1, 2, 8, 9, 15, 16, 22, 23, 29, 30]\n10 20\n"
    }
   ],
   "source": [
    "\n",
    "wb_data = load_workbook(filename = 'data.xlsx')\n",
    "sheet_ranges = wb_data['отпуска больничные и пр']\n",
    "print(type(sheet_ranges.cell(column=2, row=2).value))\n",
    "\n",
    "holidays_ws = wb_data['выходные']\n",
    "holidays_list = []\n",
    "for i in range(2, holidays_ws.max_row + 1):\n",
    "    if int(holidays_ws.cell(column=1, row=i).value) == mounth_num:\n",
    "        holidays_list.append(int(holidays_ws.cell(column=3, row=i).value))\n",
    "\n",
    "\n",
    "print(holidays_list)\n",
    "\n",
    "working_day_10 = 10\n",
    "while working_day_10 in holidays_list:\n",
    "    working_day_10 += 1\n",
    "\n",
    "working_day_20 = 20\n",
    "while working_day_20 in holidays_list:\n",
    "    working_day_20 += 1\n",
    "\n",
    "print(working_day_10, working_day_20)"
   ]
  },
  {
   "cell_type": "code",
   "execution_count": 17,
   "metadata": {
    "tags": []
   },
   "outputs": [],
   "source": [
    "staff_ws = wb_data['сотрудники']\n",
    "number_of_staff =  staff_ws.max_row - 1\n",
    "absence_dict = {}\n",
    "for n in range(number_of_staff):\n",
    "    absence_dict[staff_ws.cell(column=2, row=n + 2).value] = []"
   ]
  },
  {
   "cell_type": "code",
   "execution_count": 18,
   "metadata": {},
   "outputs": [
    {
     "output_type": "execute_result",
     "data": {
      "text/plain": "(2, {'Вылков А.И.': [], 'Зверев В.С.': []})"
     },
     "metadata": {},
     "execution_count": 18
    }
   ],
   "source": [
    "number_of_staff"
   ]
  },
  {
   "cell_type": "code",
   "execution_count": 11,
   "metadata": {},
   "outputs": [],
   "source": [
    "\n",
    "wb = Workbook()\n",
    "dest_filename = 'табель {} {}.xlsx'.format(mounths[mounth_num-1], working_day_20)\n",
    "\n",
    "wb_template = load_workbook(filename = 'template.xlsx')\n",
    "sheet_name = str(days_in_mounth)\n",
    "\n",
    "for name in wb_template.get_sheet_names():\n",
    "    ws = wb_template.get_sheet_by_name(name)\n",
    "    if name != sheet_name:\n",
    "        wb_template.remove_sheet(ws)\n",
    "\n",
    "ws = wb_template[sheet_name]\n",
    "ws.title = 'табель'\n"
   ]
  },
  {
   "cell_type": "code",
   "execution_count": 22,
   "metadata": {
    "tags": []
   },
   "outputs": [],
   "source": [
    "# for k in range(number_of_staff - 1):\n",
    "#     ws.insert_rows(17)\n",
    "\n",
    "staff_ws = wb_data['сотрудники']\n",
    "for k in range(number_of_staff):\n",
    "    for c in range(1,5):\n",
    "        ws.cell(row=17 + k, column=c).value = staff_ws.cell(row=2 + k, column=c).value\n",
    "    for h in holidays_list:\n",
    "        ws.cell(row=17+ k, column=h+4).value = 'В'\n",
    "\n",
    "another_label_ws = wb_data['отпуска больничные и пр']\n",
    "r = 2\n",
    "value = another_label_ws.cell(row=r, column=1).value\n",
    "\n",
    "while value:\n",
    "    start_date = another_label_ws.cell(row=r, column=2).value.date()\n",
    "    end_date = another_label_ws.cell(row=r, column=3).value.date()\n",
    "    letter_label = another_label_ws.cell(row=r, column=4).value\n",
    "    digit_label = another_label_ws.cell(row=r, column=5).value\n",
    "\n",
    "    for k in range(number_of_staff):\n",
    "        days_absense = 0\n",
    "        if value == staff_ws.cell(row=2 + k, column=2).value:\n",
    "            for d in range(1, days_in_mounth + 1):\n",
    "                if start_date <= datetime.date(year, mounth_num, d) <= end_date:\n",
    "                    ws.cell(row=17+k, column=d+4).value = letter_label\n",
    "                    days_absense += 1\n",
    "            if days_absense>0:\n",
    "                ws.cell(row=17+k, column=4 + days_in_mounth + 5).value = digit_label \n",
    "                ws.cell(row=17+k, column=4 + days_in_mounth + 6).value = days_absense\n",
    "                absence_dict[value].append([days_absense, letter_label]) \n",
    "    r += 1 \n",
    "    value = another_label_ws.cell(row=r, column=1).value\n",
    "\n",
    "# ws.move_range(\"O{}:AQ{}\".format(ws.max_row-2, ws.max_row), rows=-20, cols=0)\n",
    "# # ws.delete_rows(17+number_of_staff, 1)\n",
    "\n",
    "# ws.merge_cells(start_row=17+number_of_staff+2, start_column=15, end_row=17+number_of_staff+2, end_column=25)\n",
    "ws['Y9'] = datetime.date(year, mounth_num, working_day_20)\n"
   ]
  },
  {
   "cell_type": "code",
   "execution_count": 23,
   "metadata": {},
   "outputs": [],
   "source": [
    "wb_template.save(dest_filename)"
   ]
  },
  {
   "cell_type": "code",
   "execution_count": null,
   "metadata": {},
   "outputs": [],
   "source": []
  }
 ]
}